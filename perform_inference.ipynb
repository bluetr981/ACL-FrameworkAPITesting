{
 "cells": [
  {
   "cell_type": "code",
   "execution_count": 18,
   "id": "77c13e5a",
   "metadata": {},
   "outputs": [],
   "source": [
    "import joblib\n",
    "from xgboost import XGBClassifier\n",
    "import numpy as np\n",
    "import re\n",
    "\n",
    "replacement_rules_feature = {\n",
    "    \"M\": 1,\n",
    "    \"F\": 0,\n",
    "    \"yes\": 1,\n",
    "    \"no\":0\n",
    "}\n",
    "\n",
    "def perform_inference(model_path:str, input:np.array) -> np.array:\n",
    "\n",
    "    match = re.search(r'\\[([\\d,\\s]+)\\]', model_path)\n",
    "    indices_str = match.group(1)\n",
    "    indices = [int(idx.strip()) -1 for idx in indices_str.split(',')]\n",
    "    input = input[:, indices]\n",
    "    means = np.array([2.8280, 5.8495, 7.1613, 2.4280, 0.4194]).reshape(1, -1)[:, indices]\n",
    "    stds = np.array([2.0196, 3.2234, 3.0335, 1.0566, 0.4961]).reshape(1, -1)[:, indices]\n",
    "    input = (input - means) / stds\n",
    "\n",
    "    if model_path.endswith('joblib'):\n",
    "        model = joblib.load(model_path)\n",
    "    elif model_path.endswith('.json'):\n",
    "        model = XGBClassifier()\n",
    "        model.load_model(model_path)\n",
    "    \n",
    "    prediction = model.predict(input)\n",
    "    return prediction"
   ]
  },
  {
   "cell_type": "code",
   "execution_count": 19,
   "id": "1b0517c6",
   "metadata": {},
   "outputs": [],
   "source": [
    "CTS = 0\n",
    "MTS = 0\n",
    "LTS = 4\n",
    "MTD = 3.58\n",
    "Sex = 'F'\n",
    "\n",
    "input_array = np.array([CTS, MTS, LTS, MTD, replacement_rules_feature[Sex]]).reshape(1, -1)\n",
    "\n",
    "path = f'Models/trained_RF_Acc_model_[1, 2, 3, 4, 5]_1.joblib'\n",
    "path = f'Models/trained_SVM_Acc_model_[1, 2, 4, 5]_1.joblib'\n",
    "path = f'Models/trained_XGB_Fb_model_[1, 2, 3, 4, 5]_1.json'\n",
    "path = f'Models/trained_SVM_Acc_model_[1, 2, 3, 4, 5]_1.joblib'\n",
    "path = f'Models/trained_SVM_Fb_model_[2, 3, 4]_1.joblib'"
   ]
  },
  {
   "cell_type": "code",
   "execution_count": 20,
   "id": "f6eba7a7",
   "metadata": {},
   "outputs": [
    {
     "name": "stdout",
     "output_type": "stream",
     "text": [
      "[0.]\n"
     ]
    }
   ],
   "source": [
    "prediction = perform_inference(path, input_array)\n",
    "print(prediction)"
   ]
  }
 ],
 "metadata": {
  "kernelspec": {
   "display_name": "Python 3",
   "language": "python",
   "name": "python3"
  },
  "language_info": {
   "codemirror_mode": {
    "name": "ipython",
    "version": 3
   },
   "file_extension": ".py",
   "mimetype": "text/x-python",
   "name": "python",
   "nbconvert_exporter": "python",
   "pygments_lexer": "ipython3",
   "version": "3.12.4"
  }
 },
 "nbformat": 4,
 "nbformat_minor": 5
}
